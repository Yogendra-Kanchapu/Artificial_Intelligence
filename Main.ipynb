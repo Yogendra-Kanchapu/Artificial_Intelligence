{
 "cells": [
  {
   "cell_type": "code",
   "execution_count": 14,
   "outputs": [],
   "source": [
    "# Import libraries\n",
    "import numpy as np\n",
    "import pandas as pd\n",
    "from sklearn import datasets\n",
    "from sklearn.datasets import load_breast_cancer\n",
    "from sklearn.model_selection import train_test_split, KFold, GridSearchCV, RandomizedSearchCV\n",
    "from sklearn.tree import DecisionTreeClassifier\n",
    "from sklearn.metrics import accuracy_score, precision_score, recall_score"
   ],
   "metadata": {
    "collapsed": false
   }
  },
  {
   "cell_type": "code",
   "execution_count": 15,
   "outputs": [],
   "source": [
    "# Load dataset\n",
    "cancer = datasets.load_breast_cancer()"
   ],
   "metadata": {
    "collapsed": false
   }
  },
  {
   "cell_type": "code",
   "execution_count": 16,
   "outputs": [],
   "source": [
    "# Split into features and labels\n",
    "X = cancer.data\n",
    "y = cancer.target\n",
    "\n",
    "# Split into training and testing sets\n",
    "X_train, X_test, y_train, y_test = train_test_split(X, y, test_size=0.2, random_state=42)"
   ],
   "metadata": {
    "collapsed": false
   }
  },
  {
   "cell_type": "code",
   "execution_count": 17,
   "outputs": [],
   "source": [
    "# Define the tune_hyperparameters\n",
    "def tune_hyperparameters(name, model, param_grid):\n",
    "    # Define a k-fold cross-validation object\n",
    "    cv = KFold(n_splits=5, shuffle=True, random_state=42)\n",
    "\n",
    "    # Choose the search method based on the name\n",
    "    if name == 'Grid Search':\n",
    "        # Use GridSearchCV to perform grid search\n",
    "        search = GridSearchCV(model, param_grid, cv=cv, scoring='accuracy', n_jobs=-1, verbose=1)\n",
    "    elif name == 'Random Search':\n",
    "        # Use RandomizedSearchCV to perform random search\n",
    "        search = RandomizedSearchCV(model, param_grid, cv=cv, scoring='accuracy', n_jobs=-1, verbose=1, n_iter=10)\n",
    "    else:\n",
    "        # Raise an error if the name is not valid\n",
    "        raise ValueError('Invalid name. Choose either Grid Search or Random Search.')\n",
    "\n",
    "    # Fit the search object on the training data\n",
    "    search.fit(X_train, y_train)\n",
    "\n",
    "    # Return the best estimator and the search object\n",
    "    return search.best_estimator_, search"
   ],
   "metadata": {
    "collapsed": false
   }
  },
  {
   "cell_type": "code",
   "execution_count": 18,
   "outputs": [
    {
     "name": "stdout",
     "output_type": "stream",
     "text": [
      "Fitting 5 folds for each of 10 candidates, totalling 50 fits\n"
     ]
    }
   ],
   "source": [
    "# Define a Decision Tree classifier with its hyperparameters\n",
    "clsf = DecisionTreeClassifier()\n",
    "param_grid = {'criterion': ['gini'], 'max_depth': np.arange(1, 11)}\n",
    "\n",
    "# Perform k-fold cross-validation and grid search or random search\n",
    "best_estimator, search = tune_hyperparameters('Grid Search', clsf, param_grid)"
   ],
   "metadata": {
    "collapsed": false
   }
  },
  {
   "cell_type": "code",
   "execution_count": 19,
   "outputs": [
    {
     "name": "stdout",
     "output_type": "stream",
     "text": [
      "Accuracy: 0.9473684210526315\n",
      "Sensitivity: 0.9452054794520548\n",
      "Specificity: 0.971830985915493\n"
     ]
    }
   ],
   "source": [
    "# Evaluate the performance of Decision Tree Classifier on the test set\n",
    "y_pred = best_estimator.predict(X_test)\n",
    "accuracy = accuracy_score(y_test, y_pred)\n",
    "sensitivity = precision_score(y_test, y_pred)\n",
    "specificity = recall_score(y_test, y_pred)\n",
    "print('Accuracy:', accuracy)\n",
    "print('Sensitivity:', sensitivity)\n",
    "print('Specificity:', specificity)"
   ],
   "metadata": {
    "collapsed": false
   }
  },
  {
   "cell_type": "code",
   "execution_count": 20,
   "outputs": [
    {
     "name": "stdout",
     "output_type": "stream",
     "text": [
      "Best score: 0.9142857142857144\n",
      "Best parameters: {'criterion': 'gini', 'max_depth': 3}\n"
     ]
    }
   ],
   "source": [
    "# Print the best score and the best parameters\n",
    "print('Best score:', search.best_score_)\n",
    "print('Best parameters:', search.best_params_)"
   ],
   "metadata": {
    "collapsed": false
   }
  }
 ],
 "metadata": {
  "kernelspec": {
   "display_name": "base",
   "language": "python",
   "name": "python3"
  },
  "language_info": {
   "name": "python",
   "version": "3.9.13"
  },
  "orig_nbformat": 4,
  "vscode": {
   "interpreter": {
    "hash": "a2ab3825ac7005fb7b26f112e9c99ae62f464c629e30b0d534c3b931b6cbc3ff"
   }
  }
 },
 "nbformat": 4,
 "nbformat_minor": 2
}
